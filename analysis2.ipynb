{
 "cells": [
  {
   "cell_type": "code",
   "execution_count": 1,
   "metadata": {
    "collapsed": true,
    "ExecuteTime": {
     "start_time": "2023-04-25T17:52:37.172717Z",
     "end_time": "2023-04-25T17:53:23.258769Z"
    }
   },
   "outputs": [
    {
     "data": {
      "text/plain": "               date    code  open  high   low  close           cap     vol  \\\n0        2000-01-04  000020  2663  3116  2663   3116   86200092000  169430   \n1        2000-01-05  000020  3173  3579  2946   3305   91424340000  728760   \n2        2000-01-06  000020  3305  3475  2814   2871   79408569600  260640   \n3        2000-01-07  000020  2984  3296  2833   3296   91519648550  453080   \n4        2000-01-10  000020  3645  3702  3163   3211   89159543000  752880   \n...             ...     ...   ...   ...   ...    ...           ...     ...   \n9235770  2023-03-29  950220  3300  3300  3190   3210  317236162650  316996   \n9235771  2023-03-30  950220  3215  3365  3180   3285  324648222525  407825   \n9235772  2023-03-31  950220  3270  3295  3215   3245  320695123925  277863   \n9235773  2023-04-03  950220  3245  3270  3215   3235  319706849275  318995   \n9235774  2023-04-04  950220  3210  3400  3210   3400  336013381000  685661   \n\n                 val    shares  \n0         2699165500   5224248  \n1        13149097500   5224248  \n2         4173941000   5224248  \n3         7561695500   5244679  \n4        13797058000   5244679  \n...              ...       ...  \n9235770   1020394660  98827465  \n9235771   1338380400  98827465  \n9235772    902331175  98827465  \n9235773   1032770480  98827465  \n9235774   2278057245  98827465  \n\n[9235775 rows x 10 columns]",
      "text/html": "<div>\n<style scoped>\n    .dataframe tbody tr th:only-of-type {\n        vertical-align: middle;\n    }\n\n    .dataframe tbody tr th {\n        vertical-align: top;\n    }\n\n    .dataframe thead th {\n        text-align: right;\n    }\n</style>\n<table border=\"1\" class=\"dataframe\">\n  <thead>\n    <tr style=\"text-align: right;\">\n      <th></th>\n      <th>date</th>\n      <th>code</th>\n      <th>open</th>\n      <th>high</th>\n      <th>low</th>\n      <th>close</th>\n      <th>cap</th>\n      <th>vol</th>\n      <th>val</th>\n      <th>shares</th>\n    </tr>\n  </thead>\n  <tbody>\n    <tr>\n      <th>0</th>\n      <td>2000-01-04</td>\n      <td>000020</td>\n      <td>2663</td>\n      <td>3116</td>\n      <td>2663</td>\n      <td>3116</td>\n      <td>86200092000</td>\n      <td>169430</td>\n      <td>2699165500</td>\n      <td>5224248</td>\n    </tr>\n    <tr>\n      <th>1</th>\n      <td>2000-01-05</td>\n      <td>000020</td>\n      <td>3173</td>\n      <td>3579</td>\n      <td>2946</td>\n      <td>3305</td>\n      <td>91424340000</td>\n      <td>728760</td>\n      <td>13149097500</td>\n      <td>5224248</td>\n    </tr>\n    <tr>\n      <th>2</th>\n      <td>2000-01-06</td>\n      <td>000020</td>\n      <td>3305</td>\n      <td>3475</td>\n      <td>2814</td>\n      <td>2871</td>\n      <td>79408569600</td>\n      <td>260640</td>\n      <td>4173941000</td>\n      <td>5224248</td>\n    </tr>\n    <tr>\n      <th>3</th>\n      <td>2000-01-07</td>\n      <td>000020</td>\n      <td>2984</td>\n      <td>3296</td>\n      <td>2833</td>\n      <td>3296</td>\n      <td>91519648550</td>\n      <td>453080</td>\n      <td>7561695500</td>\n      <td>5244679</td>\n    </tr>\n    <tr>\n      <th>4</th>\n      <td>2000-01-10</td>\n      <td>000020</td>\n      <td>3645</td>\n      <td>3702</td>\n      <td>3163</td>\n      <td>3211</td>\n      <td>89159543000</td>\n      <td>752880</td>\n      <td>13797058000</td>\n      <td>5244679</td>\n    </tr>\n    <tr>\n      <th>...</th>\n      <td>...</td>\n      <td>...</td>\n      <td>...</td>\n      <td>...</td>\n      <td>...</td>\n      <td>...</td>\n      <td>...</td>\n      <td>...</td>\n      <td>...</td>\n      <td>...</td>\n    </tr>\n    <tr>\n      <th>9235770</th>\n      <td>2023-03-29</td>\n      <td>950220</td>\n      <td>3300</td>\n      <td>3300</td>\n      <td>3190</td>\n      <td>3210</td>\n      <td>317236162650</td>\n      <td>316996</td>\n      <td>1020394660</td>\n      <td>98827465</td>\n    </tr>\n    <tr>\n      <th>9235771</th>\n      <td>2023-03-30</td>\n      <td>950220</td>\n      <td>3215</td>\n      <td>3365</td>\n      <td>3180</td>\n      <td>3285</td>\n      <td>324648222525</td>\n      <td>407825</td>\n      <td>1338380400</td>\n      <td>98827465</td>\n    </tr>\n    <tr>\n      <th>9235772</th>\n      <td>2023-03-31</td>\n      <td>950220</td>\n      <td>3270</td>\n      <td>3295</td>\n      <td>3215</td>\n      <td>3245</td>\n      <td>320695123925</td>\n      <td>277863</td>\n      <td>902331175</td>\n      <td>98827465</td>\n    </tr>\n    <tr>\n      <th>9235773</th>\n      <td>2023-04-03</td>\n      <td>950220</td>\n      <td>3245</td>\n      <td>3270</td>\n      <td>3215</td>\n      <td>3235</td>\n      <td>319706849275</td>\n      <td>318995</td>\n      <td>1032770480</td>\n      <td>98827465</td>\n    </tr>\n    <tr>\n      <th>9235774</th>\n      <td>2023-04-04</td>\n      <td>950220</td>\n      <td>3210</td>\n      <td>3400</td>\n      <td>3210</td>\n      <td>3400</td>\n      <td>336013381000</td>\n      <td>685661</td>\n      <td>2278057245</td>\n      <td>98827465</td>\n    </tr>\n  </tbody>\n</table>\n<p>9235775 rows × 10 columns</p>\n</div>"
     },
     "execution_count": 1,
     "metadata": {},
     "output_type": "execute_result"
    }
   ],
   "source": [
    "import sqlite3\n",
    "import pandas as pd\n",
    "\n",
    "conn = sqlite3.connect('/Users/jowookjae/Downloads/chart.db')\n",
    "query = \"SELECT * FROM chart;\"\n",
    "\n",
    "chart = pd.read_sql_query(query, conn)\n",
    "chart"
   ]
  },
  {
   "cell_type": "code",
   "execution_count": 29,
   "outputs": [],
   "source": [
    "# todo\n",
    "chart[\"val/cap\"] = chart[\"val\"] / chart[\"cap\"]\n",
    "\n",
    "for v in [1, 5, 10, 30]:\n",
    "    chart[f\"val/cap_{v}\"] = chart.groupby(\"code\")[\"val/cap\"].rolling(window=v).sum().reset_index(drop=True)\n",
    "\n",
    "for v in [1, 5, 10, 30]:\n",
    "    post_close = chart.groupby(\"code\")[\"close\"].shift(-v)\n",
    "    chart[f\"{v}_change\"] = (post_close - chart['close']) / chart['close']"
   ],
   "metadata": {
    "collapsed": false,
    "ExecuteTime": {
     "start_time": "2023-04-25T18:33:06.928796Z",
     "end_time": "2023-04-25T18:33:26.754824Z"
    }
   }
  },
  {
   "cell_type": "code",
   "execution_count": 46,
   "outputs": [
    {
     "data": {
      "text/plain": "-0.016433493559850652"
     },
     "execution_count": 46,
     "metadata": {},
     "output_type": "execute_result"
    }
   ],
   "source": [
    "chart[\"val/cap_5\"].corr(chart[\"30_change\"])"
   ],
   "metadata": {
    "collapsed": false,
    "ExecuteTime": {
     "start_time": "2023-04-25T18:36:21.122730Z",
     "end_time": "2023-04-25T18:36:21.204778Z"
    }
   }
  }
 ],
 "metadata": {
  "kernelspec": {
   "display_name": "Python 3",
   "language": "python",
   "name": "python3"
  },
  "language_info": {
   "codemirror_mode": {
    "name": "ipython",
    "version": 2
   },
   "file_extension": ".py",
   "mimetype": "text/x-python",
   "name": "python",
   "nbconvert_exporter": "python",
   "pygments_lexer": "ipython2",
   "version": "2.7.6"
  }
 },
 "nbformat": 4,
 "nbformat_minor": 0
}
