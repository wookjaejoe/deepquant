{
 "cells": [
  {
   "cell_type": "code",
   "execution_count": 5,
   "metadata": {
    "collapsed": true
   },
   "outputs": [
    {
     "data": {
      "text/plain": "0         2000-01-31\n1         2000-01-31\n2         2000-01-31\n3         2000-01-31\n4         2000-01-31\n             ...    \n453762    2022-10-31\n453763    2022-10-31\n453764    2022-10-31\n453765    2022-10-31\n453766    2022-10-31\nName: date, Length: 453767, dtype: object"
     },
     "execution_count": 5,
     "metadata": {},
     "output_type": "execute_result"
    }
   ],
   "source": [
    "# todo: 월 주가 데이터 조회 및 캐싱\n",
    "from base import YearMonth\n",
    "from repository.maria import chart\n",
    "\n",
    "\n",
    "begin = YearMonth(2000, 1)\n",
    "end = YearMonth(2022, 10)\n",
    "\n",
    "df = chart.month_chart(begin, end)\n",
    "df[\"date\"]\n"
   ]
  },
  {
   "cell_type": "code",
   "execution_count": null,
   "outputs": [],
   "source": [],
   "metadata": {
    "collapsed": false
   }
  }
 ],
 "metadata": {
  "kernelspec": {
   "display_name": "Python 3",
   "language": "python",
   "name": "python3"
  },
  "language_info": {
   "codemirror_mode": {
    "name": "ipython",
    "version": 2
   },
   "file_extension": ".py",
   "mimetype": "text/x-python",
   "name": "python",
   "nbconvert_exporter": "python",
   "pygments_lexer": "ipython2",
   "version": "2.7.6"
  }
 },
 "nbformat": 4,
 "nbformat_minor": 0
}
